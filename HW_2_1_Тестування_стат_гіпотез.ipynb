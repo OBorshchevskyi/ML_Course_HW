{
 "cells": [
  {
   "cell_type": "code",
   "execution_count": 26,
   "metadata": {
    "id": "uTJEZPARYMd4",
    "tags": []
   },
   "outputs": [],
   "source": [
    "from statsmodels.stats.weightstats import ztest\n",
    "from scipy.stats import ttest_ind\n",
    "\n",
    "import numpy as np"
   ]
  },
  {
   "cell_type": "markdown",
   "metadata": {
    "id": "ID3uSQHkQJ2J"
   },
   "source": [
    "В цьому ДЗ потренуємось виконувати Z-тести для тестування гіпотез в різних задачах. Для коректної імплементації та інтерпретації тестів рекоемндую переглянути спершу документацію:\n",
    "\n",
    "https://www.statsmodels.org/dev/generated/statsmodels.stats.weightstats.ztest.html\n",
    "\n",
    "### Завдання 1: Z-тест для однієї вибірки\n",
    "\n",
    "**Мета**: Перевірити, чи середнє значення вибірки відрізняється від гіпотетичного середнього.\n",
    "\n",
    "**Припущення**: Середній ріст студентів університету вважається 170 см. Ми хочемо перевірити, чи середній ріст випадкової вибірки студентів істотно більший. Вибірка задана в змінній `heights`.\n",
    "\n",
    "Для виконання завдання імпортуйте метод для проведення `ztest`, виконайте Z-тест з Python, виведіть p-value і зробіть заключення, чи справдилось припущення про середній зріст студентів на рівні значущості 0.05?\n",
    "\n",
    "Використовуємо тут Z-тест, оскільки вибірка достатньо велика (більше 30 екземплярів) і можемо вважати, що її стандартне відхилення близьке до ст. відхилення генеральної сукупності, а значить - відоме."
   ]
  },
  {
   "cell_type": "code",
   "execution_count": 3,
   "metadata": {
    "id": "TUYNSCDzRE7N",
    "tags": []
   },
   "outputs": [],
   "source": [
    "heights = [174, 171, 175, 179, 170, 170, 179, 175, 169, 174, 169, 169, 173, 162, 163, 169, 166,\n",
    "           173, 167, 164, 179, 170, 172, 164, 169, 175, 169, 174, 169, 169, 173, 162, 177]"
   ]
  },
  {
   "cell_type": "code",
   "execution_count": 9,
   "metadata": {
    "tags": []
   },
   "outputs": [
    {
     "name": "stdout",
     "output_type": "stream",
     "text": [
      "Кількість елементів вибірки:33.00\n",
      "Середне вибірки:170.70\n",
      "Cтандартне відхилення вибірки (та сукупності):4.65\n"
     ]
    }
   ],
   "source": [
    "n = len(heights)\n",
    "mu = np.mean(heights)\n",
    "sigma = np.std(heights)\n",
    "\n",
    "null_mu = 170\n",
    "\n",
    "print('Кількість елементів вибірки:{:.2f}'.format(n))\n",
    "print('Середне вибірки:{:.2f}'.format(mu))\n",
    "print('Cтандартне відхилення вибірки (та сукупності):{:.2f}'.format(sigma))"
   ]
  },
  {
   "cell_type": "code",
   "execution_count": 16,
   "metadata": {
    "tags": []
   },
   "outputs": [
    {
     "name": "stdout",
     "output_type": "stream",
     "text": [
      "z_value: 0.8482235371587619\n",
      "Чи можемо відкинути нульову гіпотезу?  False\n",
      "p_value: 0.19815674571091746\n",
      "Чи можемо відкинути нульову гіпотезу?  False\n"
     ]
    }
   ],
   "source": [
    "stat_value, p_value = ztest(heights, value = null_mu, alternative='larger') \n",
    "stat_value, p_value\n",
    "\n",
    "print('z_value:',stat_value)\n",
    "print('Чи можемо відкинути нульову гіпотезу? ', stat_value > 1.645)\n",
    "\n",
    "print('p_value:',p_value)\n",
    "print('Чи можемо відкинути нульову гіпотезу? ', p_value < .05)\n"
   ]
  },
  {
   "cell_type": "code",
   "execution_count": 17,
   "metadata": {
    "tags": []
   },
   "outputs": [
    {
     "name": "stdout",
     "output_type": "stream",
     "text": [
      "z_value: 0.8613750739492424\n",
      "Чи можемо відкинути нульову гіпотезу?  False\n"
     ]
    }
   ],
   "source": [
    "#Перевіряємо \"олівцем\"\n",
    "z_value = (mu - null_mu)/(sigma / np.sqrt(n))\n",
    "print('z_value:',z_value)\n",
    "print('Чи можемо відкинути нульову гіпотезу? ', z_value > 1.645)"
   ]
  },
  {
   "cell_type": "markdown",
   "metadata": {},
   "source": [
    "**Висновок**: Провівши розрахунки за допомогою вбудованої функції ztest бібліотеки statsmodels отримали значення z-статистики = 0.848 та p-value = 0.198. Отримані значення не дозволяють відкинути нульову гіпотезу (середнє значення вибірки НЕ більше від гіпотетичного середнього) на рівні значущості на рівні значущості 0.05, оскільки для цього необхідно мати p-value < 0.05, z-статистика > 1.645"
   ]
  },
  {
   "cell_type": "markdown",
   "metadata": {
    "id": "ga4iKM9kQa9Q"
   },
   "source": [
    "### Завдання 2: Z-тест для двох незалежних вибірок\n",
    "\n",
    "**Завдання 2.1.**\n",
    "\n",
    "**Мета**: Перевірити, чи існує статистична різниця між середніми оцінками двох груп студентів.\n",
    "\n",
    "**Припущення**: Група A отримала новий навчальний курс, а група B продовжувала зі стандартним курсом. Ми перевіряємо, чи є новий курс ефективнішим.\n",
    "\n",
    "Виконайте Z-тест з Python, виведіть p-value і зробіть заключення, чи справдилось припущення щодо студентів на рівні значущості 0.05?"
   ]
  },
  {
   "cell_type": "code",
   "execution_count": 19,
   "metadata": {
    "id": "SngJjNBJTgBp",
    "tags": []
   },
   "outputs": [],
   "source": [
    "group_a_scores = [78.55, 72.25, 79.88, 75.  , 76.54, 74.99, 87.26, 77.93, 72.71,\n",
    "       82.11, 71.9 , 79.04, 68.2 , 71.36, 78.98, 81.69, 78.86, 77.42,\n",
    "       76.49, 70.61, 74.4 , 75.7 , 83.29, 79.72, 69.18, 79.62, 76.07,\n",
    "       74.62, 81.06, 83.15, 82.66, 73.8 , 76.45, 79.66, 82.88, 75.6 ,\n",
    "       77.07, 72.47, 72.02, 82.06]\n",
    "\n",
    "group_b_scores = [81.78, 74.64, 80.02, 76.81, 71.77, 76.81, 82.69, 74.82, 82.82,\n",
    "       61.9 , 79.11, 75.44, 73.5 , 75.46, 65.06, 73.9 , 76.79, 82.39,\n",
    "       72.41, 70.96, 72.49, 79.58, 76.64, 72.35, 77.57, 75.49, 79.84,\n",
    "       71.49, 73.36, 73.04, 67.68, 76.48, 76.31, 75.03, 73.83, 67.92,\n",
    "       72.9 , 73.29, 70.99, 74.19]"
   ]
  },
  {
   "cell_type": "code",
   "execution_count": 20,
   "metadata": {
    "id": "CvftCAEHYPKL",
    "tags": []
   },
   "outputs": [
    {
     "name": "stdout",
     "output_type": "stream",
     "text": [
      "Кількість елементів вибірки А:40.00\n",
      "Середне вибірки А:77.08\n",
      "Cтандартне відхилення вибірки А:4.31\n"
     ]
    }
   ],
   "source": [
    "n_a = len(group_a_scores)\n",
    "mu_a = np.mean(group_a_scores)\n",
    "sigma_a = np.std(group_a_scores)\n",
    "\n",
    "print('Кількість елементів вибірки А:{:.2f}'.format(n_a))\n",
    "print('Середне вибірки А:{:.2f}'.format(mu_a))\n",
    "print('Cтандартне відхилення вибірки А:{:.2f}'.format(sigma_a))"
   ]
  },
  {
   "cell_type": "code",
   "execution_count": 46,
   "metadata": {
    "tags": []
   },
   "outputs": [
    {
     "name": "stdout",
     "output_type": "stream",
     "text": [
      "Кількість елементів вибірки B:40.00\n",
      "Середне вибірки B:74.74\n",
      "Cтандартне відхилення вибірки B:4.46\n"
     ]
    }
   ],
   "source": [
    "n_b = len(group_b_scores)\n",
    "mu_b = np.mean(group_b_scores)\n",
    "sigma_b = np.std(group_b_scores)\n",
    "\n",
    "print('Кількість елементів вибірки B:{:.2f}'.format(n_b))\n",
    "print('Середне вибірки B:{:.2f}'.format(mu_b))\n",
    "print('Cтандартне відхилення вибірки B:{:.2f}'.format(sigma_b))"
   ]
  },
  {
   "cell_type": "code",
   "execution_count": 41,
   "metadata": {
    "tags": []
   },
   "outputs": [
    {
     "name": "stdout",
     "output_type": "stream",
     "text": [
      "z_value: -2.357354864751502\n",
      "Чи можемо відкинути нульову гіпотезу?  False\n",
      "p_value: 0.990797175723736\n",
      "Чи можемо відкинути нульову гіпотезу?  False\n"
     ]
    }
   ],
   "source": [
    "stat_value, p_value = ztest(group_b_scores, group_a_scores, alternative='larger') \n",
    "stat_value, p_value\n",
    "\n",
    "print('z_value:',stat_value)\n",
    "print('Чи можемо відкинути нульову гіпотезу? ', stat_value > 1.645)\n",
    "\n",
    "print('p_value:',p_value)\n",
    "print('Чи можемо відкинути нульову гіпотезу? ', p_value < .05)"
   ]
  },
  {
   "cell_type": "code",
   "execution_count": 42,
   "metadata": {
    "tags": []
   },
   "outputs": [
    {
     "name": "stdout",
     "output_type": "stream",
     "text": [
      "z_value: -2.357354864751502\n",
      "Чи можемо відкинути нульову гіпотезу?  True\n",
      "p_value: 0.009202824276264005\n",
      "Чи можемо відкинути нульову гіпотезу?  True\n"
     ]
    }
   ],
   "source": [
    "stat_value, p_value = ztest(group_b_scores, group_a_scores, alternative='smaller') \n",
    "stat_value, p_value\n",
    "\n",
    "print('z_value:',stat_value)\n",
    "print('Чи можемо відкинути нульову гіпотезу? ', stat_value < -1.645)\n",
    "\n",
    "print('p_value:',p_value)\n",
    "print('Чи можемо відкинути нульову гіпотезу? ', p_value < .05)"
   ]
  },
  {
   "cell_type": "markdown",
   "metadata": {},
   "source": [
    "**Висновок**: Провівши розрахунки за допомогою вбудованої функції ztest бібліотеки statsmodels отримали значення z-статистики = -2.357 та p-value = 0.991. Отримані значення не дозволяють відкинути нульову гіпотезу (середнє значення вибірки A НЕ більше від гіпотетичного середнього вибірки B) на на рівні значущості 0.05, оскільки для цього необхідно мати p-value < 0.05, z-статистика > 1.645.\n",
    "\n",
    "В той же час, перевіривши протилежну нульову гіпотезу (середнє значення вибірки A НЕ менше від гіпотетичного середнього вибірки B) на на рівні значущості 0.05 отримали значення z-статистики = -2.357 та p-value = 0.09. Такі значення дозволяють її відкинути і відповідно стверджувати, що старий курс є ефективіншим за новий."
   ]
  },
  {
   "cell_type": "code",
   "execution_count": null,
   "metadata": {},
   "outputs": [],
   "source": []
  },
  {
   "cell_type": "code",
   "execution_count": null,
   "metadata": {},
   "outputs": [],
   "source": []
  },
  {
   "cell_type": "code",
   "execution_count": null,
   "metadata": {},
   "outputs": [],
   "source": []
  },
  {
   "cell_type": "markdown",
   "metadata": {
    "id": "zOxz2tU0VpJM"
   },
   "source": [
    "**Завдання 2.2.**\n",
    "\n",
    "\n",
    "**Мета**: Побачити, як впливає розмір вибірок на результат тесту.\n",
    "\n",
    "**Завдання**: Уявіть, що з групи А ми маємо тільки перші 5 записів, а з групи В - усі. Таке могло статись, якщо ми вже маємо результати тестів учнів за попередньою програмою, а тести за новою програмою здали наразі лише 5 учнів і ми вирішили не чекати довше.\n",
    "Виберіть перші 5 записів для групи А і проведіть t-test (для цього використовуємо наступний [метод](https://docs.scipy.org/doc/scipy/reference/generated/scipy.stats.ttest_ind.html)). Виведіть значення p-value. Зробіть висновок, який результат ви бачите щодо стат. значущості на рівні 0.05 для цього експерименту?\n",
    "\n",
    "Тут проводимо t-test оскільки одна з вибірок - дуже мала."
   ]
  },
  {
   "cell_type": "code",
   "execution_count": 39,
   "metadata": {
    "id": "D9znE6liYQmP",
    "tags": []
   },
   "outputs": [
    {
     "data": {
      "text/plain": [
       "TtestResult(statistic=-0.8167951030410814, pvalue=0.7907260261232134, df=43.0)"
      ]
     },
     "execution_count": 39,
     "metadata": {},
     "output_type": "execute_result"
    }
   ],
   "source": [
    "ttest_ind(group_b_scores, group_a_scores[:5], alternative='greater')"
   ]
  },
  {
   "cell_type": "markdown",
   "metadata": {},
   "source": [
    "**Висновок**: Провівши t-test за допомогою вбудованої функції ttest_ind бібліотеки scipy отримали значення t-статистики = -0.817 та p-value = 0.791. Отримані значення не дозволяють відкинути нульову гіпотезу (середнє значення вибірки A НЕ більше від гіпотетичного середнього вибірки B) на на рівні значущості 0.05, оскільки для цього необхідно мати p-value < 0.05."
   ]
  },
  {
   "cell_type": "code",
   "execution_count": null,
   "metadata": {
    "tags": []
   },
   "outputs": [],
   "source": []
  },
  {
   "cell_type": "markdown",
   "metadata": {
    "id": "3TcRHLLz0SLw"
   },
   "source": [
    "\n",
    "### Завдання 3\\*: Z-тест для двох **пов'язаних** вибірок\n",
    "\n",
    "**Мета**: Перевірити, чи вплинув тренінг на продуктивність працівників, коли всі справробітники проходили тренінг.\n",
    "\n",
    "**Припущення**: Наші працівники проходять однаковий тренінг, і ми хочемо з'ясувати, чи покращилися їхні показники після тренінгу на рівні значущості 0.05. Виконайте Z-тест з Python, виведіть p-value і зробіть заключення, чи поліпшились показники працівників на рівні значущості 0.05?\n",
    "\n",
    "Зверніть увагу, ці вибірки повʼязані між собою, значить не буде коректно виконати z-test між ними, натомість, ми можемо порівняти, чи різниця в результатах (продуктивності співробітників) є стат значущою."
   ]
  },
  {
   "cell_type": "code",
   "execution_count": 44,
   "metadata": {
    "id": "uxrjagJFW1GC",
    "tags": []
   },
   "outputs": [],
   "source": [
    "before_training = [57.82, 37.63, 36.8 , 55.22, 52.97, 52.5 , 53.46, 43.2 , 52.32,\n",
    "       52.93, 42.86, 68.66, 54.74, 38.09, 56.57, 40.25, 57.87, 61.59,\n",
    "       41.79, 59.63, 54.13, 58.22, 68.97, 47.55, 42.46, 41.1 , 41.84,\n",
    "       49.23, 53.41, 52.77]\n",
    "\n",
    "after_training = [62.47, 40.66, 42.7 , 57.69, 61.41, 56.76, 54.75, 44.06, 56.29,\n",
    "       55.48, 47.28, 72.6 , 57.59, 39.39, 56.54, 42.36, 62.58, 65.01,\n",
    "       42.3 , 62.98, 57.9 , 59.45, 72.28, 50.66, 43.18, 44.82, 45.96,\n",
    "       54.4 , 58.52, 53.01]"
   ]
  },
  {
   "cell_type": "code",
   "execution_count": 47,
   "metadata": {
    "id": "NwCsN91OYSpN",
    "tags": []
   },
   "outputs": [
    {
     "name": "stdout",
     "output_type": "stream",
     "text": [
      "Кількість елементів вибірки А:30.00\n",
      "Середне вибірки А:50.89\n",
      "Cтандартне відхилення вибірки А:8.58\n"
     ]
    }
   ],
   "source": [
    "n_a = len(before_training)\n",
    "mu_a = np.mean(before_training)\n",
    "sigma_a = np.std(before_training)\n",
    "\n",
    "print('Кількість елементів вибірки А:{:.2f}'.format(n_a))\n",
    "print('Середне вибірки А:{:.2f}'.format(mu_a))\n",
    "print('Cтандартне відхилення вибірки А:{:.2f}'.format(sigma_a))"
   ]
  },
  {
   "cell_type": "code",
   "execution_count": 48,
   "metadata": {
    "tags": []
   },
   "outputs": [
    {
     "name": "stdout",
     "output_type": "stream",
     "text": [
      "Кількість елементів вибірки B:30.00\n",
      "Середне вибірки B:54.04\n",
      "Cтандартне відхилення вибірки B:8.96\n"
     ]
    }
   ],
   "source": [
    "n_b = len(after_training)\n",
    "mu_b = np.mean(after_training)\n",
    "sigma_b = np.std(after_training)\n",
    "\n",
    "print('Кількість елементів вибірки B:{:.2f}'.format(n_b))\n",
    "print('Середне вибірки B:{:.2f}'.format(mu_b))\n",
    "print('Cтандартне відхилення вибірки B:{:.2f}'.format(sigma_b))"
   ]
  },
  {
   "cell_type": "code",
   "execution_count": 61,
   "metadata": {
    "tags": []
   },
   "outputs": [
    {
     "data": {
      "text/plain": [
       "(9.13890009623916, 3.1545359919175505e-20)"
      ]
     },
     "execution_count": 61,
     "metadata": {},
     "output_type": "execute_result"
    }
   ],
   "source": [
    "stat_value, p_value = ztest([y - x for x,y in zip(before_training, after_training)], value = 0, alternative='larger') \n",
    "stat_value, p_value"
   ]
  },
  {
   "cell_type": "code",
   "execution_count": 62,
   "metadata": {
    "tags": []
   },
   "outputs": [
    {
     "name": "stdout",
     "output_type": "stream",
     "text": [
      "z_value: 9.13890009623916\n",
      "Чи можемо відкинути нульову гіпотезу?  True\n",
      "p_value: 3.1545359919175505e-20\n",
      "Чи можемо відкинути нульову гіпотезу?  True\n"
     ]
    }
   ],
   "source": [
    "print('z_value:',stat_value)\n",
    "print('Чи можемо відкинути нульову гіпотезу? ', stat_value > 1.645)\n",
    "\n",
    "print('p_value:',p_value)\n",
    "print('Чи можемо відкинути нульову гіпотезу? ', p_value < .05)"
   ]
  },
  {
   "cell_type": "markdown",
   "metadata": {},
   "source": [
    "**Висновок**: Оскільки вибірки є залежними (одні і ті самі працівники, але до та після навчання) тому безпосередньо порівнювати ці вибірки немає сенсу, оскільки вимога пр проведення z-test є незалежність вибірок. Тому, порівнювали вибірку, що представляє попарну різницю змін продуктивності з гіпотетичним середнім 0 (змін немає). Провівши тест маємо такі значення: z-статистика = 9.139 та p-value = 3.154 * 10^-20. Отримані значення дозволяють відкинути нульову гіпотезу (продуктивність після навчання НЕ більше ) на на рівні значущості 0.05, оскільки p-value < 0.05."
   ]
  },
  {
   "cell_type": "code",
   "execution_count": null,
   "metadata": {},
   "outputs": [],
   "source": []
  }
 ],
 "metadata": {
  "colab": {
   "provenance": []
  },
  "kernelspec": {
   "display_name": "Python 3 (ipykernel)",
   "language": "python",
   "name": "python3"
  },
  "language_info": {
   "codemirror_mode": {
    "name": "ipython",
    "version": 3
   },
   "file_extension": ".py",
   "mimetype": "text/x-python",
   "name": "python",
   "nbconvert_exporter": "python",
   "pygments_lexer": "ipython3",
   "version": "3.11.5"
  }
 },
 "nbformat": 4,
 "nbformat_minor": 4
}
