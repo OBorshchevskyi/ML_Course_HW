{
 "cells": [
  {
   "cell_type": "code",
   "execution_count": 1,
   "metadata": {
    "id": "qDwoALrs07Il"
   },
   "outputs": [],
   "source": [
    "import numpy as np\n",
    "import random"
   ]
  },
  {
   "cell_type": "markdown",
   "metadata": {
    "id": "efug1V4CM0lT"
   },
   "source": [
    "### Завдання 1: Створення матриць та векторів\n",
    "1. Створіть `numpy` вектор `vector` розмірністю 10 з випадковими дійсними значеннями в діапазоні від 0 до 1. Можна скористатись двома альтернативними варіантами:\n",
    "  1. Генерація випадкових чисел з модулем [`random.uniform`](https://docs.python.org/3/library/random.html).\n",
    "  2. Створення вектора з допомогою метода `numpy` [np.random.rand](https://numpy.org/doc/stable/reference/random/generated/numpy.random.rand.html)\n",
    "\n",
    "2. Створіть матрицю `matrix` типу `numpy.array` розмірності 3x3 з наступними значеннями\n",
    "\n",
    "  $$\n",
    "  matrix = \\begin{bmatrix}\n",
    "  11 & 14 & 17 \\\\\n",
    "  20 & 23 & 26 \\\\\n",
    "  29 & 32 & 35\n",
    "  \\end{bmatrix}\n",
    "  $$\n",
    "\n",
    "  будь-яким відомими Вам способом.\n",
    "\n",
    "Виведіть на екран вектор і матрицю, а також їх розміри.\n"
   ]
  },
  {
   "cell_type": "code",
   "execution_count": 2,
   "metadata": {
    "colab": {
     "base_uri": "https://localhost:8080/"
    },
    "id": "jxA_lG2_VIMe",
    "outputId": "36e558ab-1ca5-4532-816b-8f7749208644"
   },
   "outputs": [
    {
     "data": {
      "text/plain": [
       "array([0.39369376, 0.28225159, 0.82773129, 0.71698178, 0.82389798,\n",
       "       0.9656721 , 0.91357395, 0.24572082, 0.44222743, 0.47238872])"
      ]
     },
     "execution_count": 2,
     "metadata": {},
     "output_type": "execute_result"
    }
   ],
   "source": [
    "vector = np.array([random.uniform(0,1) for x in range(10)])\n",
    "vector"
   ]
  },
  {
   "cell_type": "code",
   "execution_count": 3,
   "metadata": {
    "colab": {
     "base_uri": "https://localhost:8080/"
    },
    "id": "lZYIjTRG2sd8",
    "outputId": "4259c09f-256d-439a-b246-e78536c8fb48"
   },
   "outputs": [
    {
     "data": {
      "text/plain": [
       "array([0.83543099, 0.68946332, 0.62349972, 0.67698549, 0.74449871,\n",
       "       0.33930173, 0.3738103 , 0.16660233, 0.1819922 , 0.53788483])"
      ]
     },
     "execution_count": 3,
     "metadata": {},
     "output_type": "execute_result"
    }
   ],
   "source": [
    "vector = np.random.rand(10)\n",
    "vector"
   ]
  },
  {
   "cell_type": "code",
   "execution_count": 4,
   "metadata": {
    "colab": {
     "base_uri": "https://localhost:8080/"
    },
    "id": "DRFPUcqb30Zi",
    "outputId": "0ffe1244-6c18-4e7b-dd69-da83a1bd2252"
   },
   "outputs": [
    {
     "data": {
      "text/plain": [
       "array([[11, 14, 17],\n",
       "       [20, 23, 26],\n",
       "       [29, 32, 35]])"
      ]
     },
     "execution_count": 4,
     "metadata": {},
     "output_type": "execute_result"
    }
   ],
   "source": [
    "matrix = np.arange(11, 38, 3).reshape(3,3)\n",
    "matrix"
   ]
  },
  {
   "cell_type": "markdown",
   "metadata": {
    "id": "TSJ1P4OuOVe2"
   },
   "source": [
    "\n",
    "### Завдання 2: Операції над векторами та матрицями\n",
    "Виконайте кожну з зазначених операцій над зазначеними оʼєктами і виведіть результат на екран:\n",
    "1. Додайте до кожного значення вектора `vector` число 10 і округліть кожне значення до 2 знаків після коми без використання циклів.\n",
    "2. Помножте кожен елемент матриці з першого завдання на 2 без використання циклів.\n",
    "3. Створіть новий вектор, який містить квадрат кожного `vector` без циклів.\n"
   ]
  },
  {
   "cell_type": "code",
   "execution_count": 5,
   "metadata": {
    "colab": {
     "base_uri": "https://localhost:8080/"
    },
    "id": "nAAojtyUVJXN",
    "outputId": "3cf90ab2-3655-4bbf-84dc-b57a5eadd676"
   },
   "outputs": [
    {
     "data": {
      "text/plain": [
       "array([10.84, 10.69, 10.62, 10.68, 10.74, 10.34, 10.37, 10.17, 10.18,\n",
       "       10.54])"
      ]
     },
     "execution_count": 5,
     "metadata": {},
     "output_type": "execute_result"
    }
   ],
   "source": [
    "vector_plus_10 = np.round(vector + 10, 2)\n",
    "vector_plus_10"
   ]
  },
  {
   "cell_type": "code",
   "execution_count": 6,
   "metadata": {
    "colab": {
     "base_uri": "https://localhost:8080/"
    },
    "id": "JP-zzsaJ5ZP8",
    "outputId": "35863044-2f73-48e0-e294-bd0f72970ba1"
   },
   "outputs": [
    {
     "data": {
      "text/plain": [
       "array([[22, 28, 34],\n",
       "       [40, 46, 52],\n",
       "       [58, 64, 70]])"
      ]
     },
     "execution_count": 6,
     "metadata": {},
     "output_type": "execute_result"
    }
   ],
   "source": [
    "matrix_x2 = matrix * 2\n",
    "matrix_x2"
   ]
  },
  {
   "cell_type": "code",
   "execution_count": 7,
   "metadata": {
    "colab": {
     "base_uri": "https://localhost:8080/"
    },
    "id": "fI-il9Dg5fUP",
    "outputId": "eb4cda4d-e944-423d-a977-91002749411c"
   },
   "outputs": [
    {
     "data": {
      "text/plain": [
       "array([0.69794494, 0.47535967, 0.3887519 , 0.45830935, 0.55427833,\n",
       "       0.11512566, 0.13973414, 0.02775634, 0.03312116, 0.28932009])"
      ]
     },
     "execution_count": 7,
     "metadata": {},
     "output_type": "execute_result"
    }
   ],
   "source": [
    "vector_power_2 = vector ** 2\n",
    "vector_power_2"
   ]
  },
  {
   "cell_type": "code",
   "execution_count": null,
   "metadata": {
    "id": "8aRqs6c55fRH"
   },
   "outputs": [],
   "source": []
  },
  {
   "cell_type": "code",
   "execution_count": null,
   "metadata": {
    "id": "LFEx76aL5fOZ"
   },
   "outputs": [],
   "source": []
  },
  {
   "cell_type": "markdown",
   "metadata": {
    "id": "u6RvWVfhPy-k"
   },
   "source": [
    "\n",
    "### Завдання 3: Множення матриць\n",
    "1. Задані дві матриці `A` і `B`розмірностями 3x2 та 2х3. Виконайте їхнє множення, щоб отримати матрицю 2x2. Виведіть результуючу матрицю `result_matrix` на екран.\n",
    "\n",
    "2. Заданий вектор `C` розмірністю 2х1. Подумайте спочатку, яку розмірність Ви отрмаєте, коли домножите `result_matrix` на вектор `C` і який результат буде. А потім виконайте множення і виведіть результат на екран.\n",
    "\n",
    "3. Задана матриця `D` розмірністю 2х2. Подумайте спочатку, яку розмірність Ви отрмаєте, коли домножите `result_matrix` на матрицю `D` і який результат буде. А потім виконайте множення і виведіть результат на екран."
   ]
  },
  {
   "cell_type": "code",
   "execution_count": 9,
   "metadata": {
    "colab": {
     "base_uri": "https://localhost:8080/",
     "height": 173
    },
    "id": "RwXfPzlbSJ44",
    "outputId": "2b5fbc18-d13d-4e3d-aca4-4bdd260eef21"
   },
   "outputs": [
    {
     "data": {
      "text/plain": [
       "array([[0.18, 0.53],\n",
       "       [0.75, 0.47],\n",
       "       [0.35, 0.21]])"
      ]
     },
     "metadata": {},
     "output_type": "display_data"
    },
    {
     "data": {
      "text/plain": [
       "array([[0.17, 0.58, 0.75],\n",
       "       [0.38, 0.11, 0.15]])"
      ]
     },
     "metadata": {},
     "output_type": "display_data"
    },
    {
     "data": {
      "text/plain": [
       "array([[0],\n",
       "       [1]])"
      ]
     },
     "metadata": {},
     "output_type": "display_data"
    },
    {
     "data": {
      "text/plain": [
       "array([[0, 1],\n",
       "       [1, 0]])"
      ]
     },
     "metadata": {},
     "output_type": "display_data"
    }
   ],
   "source": [
    "A = np.array(\n",
    "    [[0.18, 0.53],\n",
    "     [0.75, 0.47],\n",
    "     [0.35, 0.21]])\n",
    "\n",
    "B = np.array(\n",
    "    [[0.17, 0.58, 0.75],\n",
    "     [0.38, 0.11, 0.15]])\n",
    "\n",
    "C = np.array([[0], [1]])\n",
    "\n",
    "D = np.array([[0,1], [1,0]])\n",
    "\n",
    "display(A, B, C, D)"
   ]
  },
  {
   "cell_type": "code",
   "execution_count": 11,
   "metadata": {
    "colab": {
     "base_uri": "https://localhost:8080/"
    },
    "id": "z7-boTbhVKkj",
    "outputId": "bc163981-738d-471a-c791-076cfc031191"
   },
   "outputs": [
    {
     "data": {
      "text/plain": [
       "array([[0.7281, 0.5202],\n",
       "       [0.2034, 0.2846]])"
      ]
     },
     "execution_count": 11,
     "metadata": {},
     "output_type": "execute_result"
    }
   ],
   "source": [
    "result_matrix = np.dot(B, A)\n",
    "result_matrix"
   ]
  },
  {
   "cell_type": "code",
   "execution_count": 14,
   "metadata": {
    "colab": {
     "base_uri": "https://localhost:8080/"
    },
    "id": "kSwz6vcxs8rF",
    "outputId": "00e369d1-f01f-4d59-9628-a66170aae880"
   },
   "outputs": [
    {
     "data": {
      "text/plain": [
       "(2, 2)"
      ]
     },
     "execution_count": 14,
     "metadata": {},
     "output_type": "execute_result"
    }
   ],
   "source": [
    "result_matrix.shape"
   ]
  },
  {
   "cell_type": "markdown",
   "metadata": {
    "id": "0CxR9xRxqumv"
   },
   "source": [
    "При множені матриці `result_matrix`,з розмірністю 2х2, на матрицю `С` з розмірністю 2х1 ми отримаємо матрицю 2х1 з діагоналю матриці `result_matrix` від правого верхнього кута до лівого нижнього\n"
   ]
  },
  {
   "cell_type": "code",
   "execution_count": 12,
   "metadata": {
    "colab": {
     "base_uri": "https://localhost:8080/"
    },
    "id": "8eCQ5Dg8qmxp",
    "outputId": "b942408a-dec4-46af-ef02-7ceb8a971715"
   },
   "outputs": [
    {
     "data": {
      "text/plain": [
       "array([[0.5202],\n",
       "       [0.2846]])"
      ]
     },
     "execution_count": 12,
     "metadata": {},
     "output_type": "execute_result"
    }
   ],
   "source": [
    "np.dot(result_matrix, C)"
   ]
  },
  {
   "cell_type": "code",
   "execution_count": 16,
   "metadata": {
    "colab": {
     "base_uri": "https://localhost:8080/"
    },
    "id": "ODZBm61Ktn-v",
    "outputId": "bb6f1b72-d3f5-4538-e7d8-1c3d30c5e008"
   },
   "outputs": [
    {
     "data": {
      "text/plain": [
       "(2, 1)"
      ]
     },
     "execution_count": 16,
     "metadata": {},
     "output_type": "execute_result"
    }
   ],
   "source": [
    "np.dot(result_matrix, C).shape"
   ]
  },
  {
   "cell_type": "markdown",
   "metadata": {
    "id": "FppIVjb4tF0l"
   },
   "source": [
    "При множені матриці `result_matrix`,з розмірністю 2х2, на матрицю `D` з розмірністю 2х2 ми отримаємо матрицю 2х2 де діагоналі матриці `result_matrix` змінені місцями"
   ]
  },
  {
   "cell_type": "code",
   "execution_count": 18,
   "metadata": {
    "colab": {
     "base_uri": "https://localhost:8080/"
    },
    "id": "QhLX9ClztvF0",
    "outputId": "c56443cb-e399-4bea-a97a-e138065bb261"
   },
   "outputs": [
    {
     "data": {
      "text/plain": [
       "array([[0.5202, 0.7281],\n",
       "       [0.2846, 0.2034]])"
      ]
     },
     "execution_count": 18,
     "metadata": {},
     "output_type": "execute_result"
    }
   ],
   "source": [
    "np.dot(result_matrix, D)"
   ]
  },
  {
   "cell_type": "code",
   "execution_count": 17,
   "metadata": {
    "colab": {
     "base_uri": "https://localhost:8080/"
    },
    "id": "LJrttDt6rt7n",
    "outputId": "0f8f025c-eef9-4b9b-e611-537e564e724b"
   },
   "outputs": [
    {
     "data": {
      "text/plain": [
       "(2, 2)"
      ]
     },
     "execution_count": 17,
     "metadata": {},
     "output_type": "execute_result"
    }
   ],
   "source": [
    "np.dot(result_matrix, D).shape"
   ]
  },
  {
   "cell_type": "markdown",
   "metadata": {
    "id": "wohp0_cxSGpl"
   },
   "source": [
    "\n",
    "### Завдання 4: Транспонування матриць\n",
    "1. Транспонуйте `result_matrix`.\n",
    "2. Зробіть транспонування вектора `vector` і виведіть форму нової структури. Чи бачите ви зміну?\n",
    "3. Використайте операцію `numpy.expand_dims` над вектором `vector` з аргументом axis=1. Запишіть отриманий результат в змінну `column_vector` і виведіть на екран. Порівняйте з `vector`.\n",
    "4. Зробіть транспонування `column_vector`, виведіть результат на екран разом з розмірностями отриманої структури.\n",
    "\n",
    "\n"
   ]
  },
  {
   "cell_type": "code",
   "execution_count": 19,
   "metadata": {
    "colab": {
     "base_uri": "https://localhost:8080/"
    },
    "id": "4hFcq1baVLii",
    "outputId": "4797bb1c-a08a-468a-e385-75f4d8c8b717"
   },
   "outputs": [
    {
     "data": {
      "text/plain": [
       "array([[0.7281, 0.2034],\n",
       "       [0.5202, 0.2846]])"
      ]
     },
     "execution_count": 19,
     "metadata": {},
     "output_type": "execute_result"
    }
   ],
   "source": [
    "result_matrix.T"
   ]
  },
  {
   "cell_type": "code",
   "execution_count": 25,
   "metadata": {
    "colab": {
     "base_uri": "https://localhost:8080/"
    },
    "id": "nDChq6WqwYNn",
    "outputId": "da853e42-8dc9-44c4-e921-d020dba7a641"
   },
   "outputs": [
    {
     "data": {
      "text/plain": [
       "array([0.83543099, 0.68946332, 0.62349972, 0.67698549, 0.74449871,\n",
       "       0.33930173, 0.3738103 , 0.16660233, 0.1819922 , 0.53788483])"
      ]
     },
     "execution_count": 25,
     "metadata": {},
     "output_type": "execute_result"
    }
   ],
   "source": [
    "vector"
   ]
  },
  {
   "cell_type": "code",
   "execution_count": 21,
   "metadata": {
    "colab": {
     "base_uri": "https://localhost:8080/"
    },
    "id": "gsYZZShqwGxr",
    "outputId": "a83ee2eb-a79b-4cf0-a671-0b6d2b3e8a39"
   },
   "outputs": [
    {
     "data": {
      "text/plain": [
       "array([0.83543099, 0.68946332, 0.62349972, 0.67698549, 0.74449871,\n",
       "       0.33930173, 0.3738103 , 0.16660233, 0.1819922 , 0.53788483])"
      ]
     },
     "execution_count": 21,
     "metadata": {},
     "output_type": "execute_result"
    }
   ],
   "source": [
    "vector.T"
   ]
  },
  {
   "cell_type": "code",
   "execution_count": 24,
   "metadata": {
    "colab": {
     "base_uri": "https://localhost:8080/"
    },
    "id": "bU5JbunQwKv9",
    "outputId": "4408e8b5-cc68-4fe2-c9cc-21b8c5861f5b"
   },
   "outputs": [
    {
     "data": {
      "text/plain": [
       "((10,), (10,))"
      ]
     },
     "execution_count": 24,
     "metadata": {},
     "output_type": "execute_result"
    }
   ],
   "source": [
    "vector.shape, vector.T.shape"
   ]
  },
  {
   "cell_type": "markdown",
   "metadata": {
    "id": "NiY4rTuH0mj2"
   },
   "source": [
    "Після транспонування вектора `column_vector` змін ні в структурі ні за розмірністю не спостерігаю"
   ]
  },
  {
   "cell_type": "code",
   "execution_count": 27,
   "metadata": {
    "colab": {
     "base_uri": "https://localhost:8080/"
    },
    "id": "p8XX-37Gwh2A",
    "outputId": "ede36187-61a8-4b94-a8b1-c2300b2ae3e0"
   },
   "outputs": [
    {
     "data": {
      "text/plain": [
       "array([[0.83543099],\n",
       "       [0.68946332],\n",
       "       [0.62349972],\n",
       "       [0.67698549],\n",
       "       [0.74449871],\n",
       "       [0.33930173],\n",
       "       [0.3738103 ],\n",
       "       [0.16660233],\n",
       "       [0.1819922 ],\n",
       "       [0.53788483]])"
      ]
     },
     "execution_count": 27,
     "metadata": {},
     "output_type": "execute_result"
    }
   ],
   "source": [
    "column_vector = np.expand_dims(vector, axis = 1)\n",
    "column_vector"
   ]
  },
  {
   "cell_type": "code",
   "execution_count": 28,
   "metadata": {
    "colab": {
     "base_uri": "https://localhost:8080/"
    },
    "id": "IgwbmLSBxxfp",
    "outputId": "57b97219-cb42-46c5-d73e-afc0cf72e369"
   },
   "outputs": [
    {
     "data": {
      "text/plain": [
       "(10, 1)"
      ]
     },
     "execution_count": 28,
     "metadata": {},
     "output_type": "execute_result"
    }
   ],
   "source": [
    "column_vector.shape"
   ]
  },
  {
   "cell_type": "code",
   "execution_count": 29,
   "metadata": {
    "colab": {
     "base_uri": "https://localhost:8080/"
    },
    "id": "xHPzh-tix4cj",
    "outputId": "b2b60b78-1511-4805-ea37-faeabc5ca4f5"
   },
   "outputs": [
    {
     "data": {
      "text/plain": [
       "array([[0.83543099, 0.68946332, 0.62349972, 0.67698549, 0.74449871,\n",
       "        0.33930173, 0.3738103 , 0.16660233, 0.1819922 , 0.53788483]])"
      ]
     },
     "execution_count": 29,
     "metadata": {},
     "output_type": "execute_result"
    }
   ],
   "source": [
    "column_vector.T"
   ]
  },
  {
   "cell_type": "code",
   "execution_count": 30,
   "metadata": {
    "colab": {
     "base_uri": "https://localhost:8080/"
    },
    "id": "uGlSzBykx57L",
    "outputId": "fa6ee037-1baf-4b38-c603-d57cf36c993d"
   },
   "outputs": [
    {
     "data": {
      "text/plain": [
       "(1, 10)"
      ]
     },
     "execution_count": 30,
     "metadata": {},
     "output_type": "execute_result"
    }
   ],
   "source": [
    "column_vector.T.shape"
   ]
  },
  {
   "cell_type": "markdown",
   "metadata": {
    "id": "6Aoielnd0-NG"
   },
   "source": [
    "Змінна `column_vector` має структуру і розмірність, що відповідає матриці 10х1. Відповідно, після транспонування маємо розмірність 1х10"
   ]
  }
 ],
 "metadata": {
  "colab": {
   "provenance": []
  },
  "kernelspec": {
   "display_name": "Python 3 (ipykernel)",
   "language": "python",
   "name": "python3"
  },
  "language_info": {
   "codemirror_mode": {
    "name": "ipython",
    "version": 3
   },
   "file_extension": ".py",
   "mimetype": "text/x-python",
   "name": "python",
   "nbconvert_exporter": "python",
   "pygments_lexer": "ipython3",
   "version": "3.11.5"
  }
 },
 "nbformat": 4,
 "nbformat_minor": 4
}
